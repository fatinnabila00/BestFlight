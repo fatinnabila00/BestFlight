{
 "cells": [
  {
   "cell_type": "code",
   "execution_count": 3,
   "metadata": {
    "collapsed": true
   },
   "outputs": [
    {
     "data": {
      "text/plain": [
       "'temp-plot.html'"
      ]
     },
     "execution_count": 3,
     "metadata": {},
     "output_type": "execute_result"
    }
   ],
   "source": [
    "import plotly\n",
    "import plotly.graph_objs as go\n",
    "\n",
    "article = ['Article1', 'Article2', 'Article3', 'Article4', 'Article5']\n",
    "wordcount = [156, 222, 360, 323, 1039]\n",
    "stopword = [17, 29, 41, 38, 76]\n",
    "\n",
    "trace0 = go.Scatter(\n",
    "    x = article,\n",
    "    y = wordcount,\n",
    "    name = 'Word count',\n",
    "    line = dict(\n",
    "        color = ('rgb(205, 12, 24)'),\n",
    "        width = 4)\n",
    ")\n",
    "trace1 = go.Scatter(\n",
    "    x = article,\n",
    "    y = stopword,\n",
    "    name = 'Stop words',\n",
    "    line = dict(\n",
    "        color = ('rgb(22, 96, 167)'),\n",
    "        width = 4,)\n",
    ")\n",
    "plotly.offline.plot({\n",
    "    \"data\": [trace0, trace1],\n",
    "    \"layout\": go.Layout(title=\"Word Count and Stop Words Graph for Hong Kong\")\n",
    "}, auto_open=True)"
   ]
  },
  {
   "cell_type": "code",
   "execution_count": 4,
   "metadata": {},
   "outputs": [
    {
     "data": {
      "text/plain": [
       "'temp-plot.html'"
      ]
     },
     "execution_count": 4,
     "metadata": {},
     "output_type": "execute_result"
    }
   ],
   "source": [
    "import plotly\n",
    "import plotly.graph_objs as go\n",
    "\n",
    "article = ['Article1', 'Article2', 'Article3', 'Article4', 'Article5']\n",
    "wordcount = [279, 610, 335, 270, 243]\n",
    "stopword = [29, 44, 30, 21, 28]\n",
    "\n",
    "trace0 = go.Scatter(\n",
    "    x = article,\n",
    "    y = wordcount,\n",
    "    name = 'Word count',\n",
    "    line = dict(\n",
    "        color = ('rgb(205, 12, 24)'),\n",
    "        width = 4)\n",
    ")\n",
    "trace1 = go.Scatter(\n",
    "    x = article,\n",
    "    y = stopword,\n",
    "    name = 'Stop words',\n",
    "    line = dict(\n",
    "        color = ('rgb(22, 96, 167)'),\n",
    "        width = 4,)\n",
    ")\n",
    "plotly.offline.plot({\n",
    "    \"data\": [trace0, trace1],\n",
    "    \"layout\": go.Layout(title=\"Word Count and Stop Words Graph for Taiwan\")\n",
    "}, auto_open=True)"
   ]
  },
  {
   "cell_type": "code",
   "execution_count": 5,
   "metadata": {},
   "outputs": [
    {
     "data": {
      "text/plain": [
       "'temp-plot.html'"
      ]
     },
     "execution_count": 5,
     "metadata": {},
     "output_type": "execute_result"
    }
   ],
   "source": [
    "import plotly\n",
    "import plotly.graph_objs as go\n",
    "\n",
    "article = ['Article1', 'Article2', 'Article3', 'Article4', 'Article5']\n",
    "wordcount = [1830, 285, 234, 422, 914]\n",
    "stopword = [69, 38, 34, 40, 70]\n",
    "\n",
    "trace0 = go.Scatter(\n",
    "    x = article,\n",
    "    y = wordcount,\n",
    "    name = 'Word count',\n",
    "    line = dict(\n",
    "        color = ('rgb(205, 12, 24)'),\n",
    "        width = 4)\n",
    ")\n",
    "trace1 = go.Scatter(\n",
    "    x = article,\n",
    "    y = stopword,\n",
    "    name = 'Stop words',\n",
    "    line = dict(\n",
    "        color = ('rgb(22, 96, 167)'),\n",
    "        width = 4,)\n",
    ")\n",
    "plotly.offline.plot({\n",
    "    \"data\": [trace0, trace1],\n",
    "    \"layout\": go.Layout(title=\"Word Count and Stop Words Graph for Vancouver\")\n",
    "}, auto_open=True)"
   ]
  },
  {
   "cell_type": "code",
   "execution_count": 6,
   "metadata": {},
   "outputs": [
    {
     "data": {
      "text/plain": [
       "'temp-plot.html'"
      ]
     },
     "execution_count": 6,
     "metadata": {},
     "output_type": "execute_result"
    }
   ],
   "source": [
    "import plotly\n",
    "import plotly.graph_objs as go\n",
    "\n",
    "article = ['Article1', 'Article2', 'Article3', 'Article4', 'Article5']\n",
    "wordcount = [507, 599, 1146, 536, 393]\n",
    "stopword = [49, 60, 70, 44, 44]\n",
    "\n",
    "trace0 = go.Scatter(\n",
    "    x = article,\n",
    "    y = wordcount,\n",
    "    name = 'Word count',\n",
    "    line = dict(\n",
    "        color = ('rgb(205, 12, 24)'),\n",
    "        width = 4)\n",
    ")\n",
    "trace1 = go.Scatter(\n",
    "    x = article,\n",
    "    y = stopword,\n",
    "    name = 'Stop words',\n",
    "    line = dict(\n",
    "        color = ('rgb(22, 96, 167)'),\n",
    "        width = 4,)\n",
    ")\n",
    "plotly.offline.plot({\n",
    "    \"data\": [trace0, trace1],\n",
    "    \"layout\": go.Layout(title=\"Word Count and Stop Words Graph for Los Angeles\")\n",
    "}, auto_open=True)"
   ]
  },
  {
   "cell_type": "code",
   "execution_count": 7,
   "metadata": {},
   "outputs": [
    {
     "data": {
      "text/plain": [
       "'temp-plot.html'"
      ]
     },
     "execution_count": 7,
     "metadata": {},
     "output_type": "execute_result"
    }
   ],
   "source": [
    "import plotly\n",
    "import plotly.graph_objs as go\n",
    "\n",
    "article = ['Article1', 'Article2', 'Article3', 'Article4', 'Article5']\n",
    "wordcount = [334, 657, 1216, 1096, 121]\n",
    "stopword = [42, 53, 46, 75, 26]\n",
    "\n",
    "trace0 = go.Scatter(\n",
    "    x = article,\n",
    "    y = wordcount,\n",
    "    name = 'Word count',\n",
    "    line = dict(\n",
    "        color = ('rgb(205, 12, 24)'),\n",
    "        width = 4)\n",
    ")\n",
    "trace1 = go.Scatter(\n",
    "    x = article,\n",
    "    y = stopword,\n",
    "    name = 'Stop words',\n",
    "    line = dict(\n",
    "        color = ('rgb(22, 96, 167)'),\n",
    "        width = 4,)\n",
    ")\n",
    "plotly.offline.plot({\n",
    "    \"data\": [trace0, trace1],\n",
    "    \"layout\": go.Layout(title=\"Word Count and Stop Words Graph for Boston\")\n",
    "}, auto_open=True)"
   ]
  },
  {
   "cell_type": "code",
   "execution_count": 8,
   "metadata": {},
   "outputs": [
    {
     "data": {
      "text/plain": [
       "'temp-plot.html'"
      ]
     },
     "execution_count": 8,
     "metadata": {},
     "output_type": "execute_result"
    }
   ],
   "source": [
    "import plotly\n",
    "import plotly.graph_objs as go\n",
    "\n",
    "article = ['Article1', 'Article2', 'Article3', 'Article4', 'Article5']\n",
    "wordcount = [506, 517, 301, 435, 553]\n",
    "stopword = [46, 64, 36, 42, 35]\n",
    "\n",
    "trace0 = go.Scatter(\n",
    "    x = article,\n",
    "    y = wordcount,\n",
    "    name = 'Word count',\n",
    "    line = dict(\n",
    "        color = ('rgb(205, 12, 24)'),\n",
    "        width = 4)\n",
    ")\n",
    "trace1 = go.Scatter(\n",
    "    x = article,\n",
    "    y = stopword,\n",
    "    name = 'Stop words',\n",
    "    line = dict(\n",
    "        color = ('rgb(22, 96, 167)'),\n",
    "        width = 4,)\n",
    ")\n",
    "plotly.offline.plot({\n",
    "    \"data\": [trace0, trace1],\n",
    "    \"layout\": go.Layout(title=\"Word Count and Stop Words Graph for Doha.\")\n",
    "}, auto_open=True)"
   ]
  },
  {
   "cell_type": "code",
   "execution_count": 9,
   "metadata": {},
   "outputs": [
    {
     "data": {
      "text/plain": [
       "'temp-plot.html'"
      ]
     },
     "execution_count": 9,
     "metadata": {},
     "output_type": "execute_result"
    }
   ],
   "source": [
    "import plotly\n",
    "import plotly.graph_objs as go\n",
    "\n",
    "article = ['Article1', 'Article2', 'Article3', 'Article4', 'Article5']\n",
    "wordcount = [221, 479, 524, 831, 962]\n",
    "stopword = [26, 50, 57, 50, 73]\n",
    "\n",
    "trace0 = go.Scatter(\n",
    "    x = article,\n",
    "    y = wordcount,\n",
    "    name = 'Word count',\n",
    "    line = dict(\n",
    "        color = ('rgb(205, 12, 24)'),\n",
    "        width = 4)\n",
    ")\n",
    "trace1 = go.Scatter(\n",
    "    x = article,\n",
    "    y = stopword,\n",
    "    name = 'Stop words',\n",
    "    line = dict(\n",
    "        color = ('rgb(22, 96, 167)'),\n",
    "        width = 4,)\n",
    ")\n",
    "plotly.offline.plot({\n",
    "    \"data\": [trace0, trace1],\n",
    "    \"layout\": go.Layout(title=\"Word Count and Stop Words Graph for Chicago.\")\n",
    "}, auto_open=True)"
   ]
  },
  {
   "cell_type": "code",
   "execution_count": 10,
   "metadata": {},
   "outputs": [
    {
     "data": {
      "text/plain": [
       "'temp-plot.html'"
      ]
     },
     "execution_count": 10,
     "metadata": {},
     "output_type": "execute_result"
    }
   ],
   "source": [
    "import plotly\n",
    "import plotly.graph_objs as go\n",
    "\n",
    "article = ['Article1', 'Article2', 'Article3', 'Article4', 'Article5']\n",
    "wordcount = [910, 323, 273, 1114, 601]\n",
    "stopword = [57, 34, 42, 70, 46]\n",
    "\n",
    "trace0 = go.Scatter(\n",
    "    x = article,\n",
    "    y = wordcount,\n",
    "    name = 'Word count',\n",
    "    line = dict(\n",
    "        color = ('rgb(205, 12, 24)'),\n",
    "        width = 4)\n",
    ")\n",
    "trace1 = go.Scatter(\n",
    "    x = article,\n",
    "    y = stopword,\n",
    "    name = 'Stop words',\n",
    "    line = dict(\n",
    "        color = ('rgb(22, 96, 167)'),\n",
    "        width = 4,)\n",
    ")\n",
    "plotly.offline.plot({\n",
    "    \"data\": [trace0, trace1],\n",
    "    \"layout\": go.Layout(title=\"Word Count and Stop Words Graph for Texas.\")\n",
    "}, auto_open=True)"
   ]
  },
  {
   "cell_type": "code",
   "execution_count": 11,
   "metadata": {},
   "outputs": [
    {
     "data": {
      "text/plain": [
       "'temp-plot.html'"
      ]
     },
     "execution_count": 11,
     "metadata": {},
     "output_type": "execute_result"
    }
   ],
   "source": [
    "import plotly\n",
    "import plotly.graph_objs as go\n",
    "\n",
    "article = ['Article1', 'Article2', 'Article3', 'Article4', 'Article5']\n",
    "wordcount = [1202, 395, 205, 299, 461]\n",
    "stopword = [45, 41, 26, 27, 43]\n",
    "\n",
    "trace0 = go.Scatter(\n",
    "    x = article,\n",
    "    y = wordcount,\n",
    "    name = 'Word count',\n",
    "    line = dict(\n",
    "        color = ('rgb(205, 12, 24)'),\n",
    "        width = 4)\n",
    ")\n",
    "trace1 = go.Scatter(\n",
    "    x = article,\n",
    "    y = stopword,\n",
    "    name = 'Stop words',\n",
    "    line = dict(\n",
    "        color = ('rgb(22, 96, 167)'),\n",
    "        width = 4,)\n",
    ")\n",
    "plotly.offline.plot({\n",
    "    \"data\": [trace0, trace1],\n",
    "    \"layout\": go.Layout(title=\"Word Count and Stop Words Graph for Tokyo.\")\n",
    "}, auto_open=True)"
   ]
  },
  {
   "cell_type": "code",
   "execution_count": null,
   "metadata": {},
   "outputs": [],
   "source": []
  }
 ],
 "metadata": {
  "kernelspec": {
   "display_name": "Python 2",
   "language": "python",
   "name": "python2"
  },
  "language_info": {
   "codemirror_mode": {
    "name": "ipython",
    "version": 2
   },
   "file_extension": ".py",
   "mimetype": "text/x-python",
   "name": "python",
   "nbconvert_exporter": "python",
   "pygments_lexer": "ipython2",
   "version": "2.7.6"
  }
 },
 "nbformat": 4,
 "nbformat_minor": 0
}
