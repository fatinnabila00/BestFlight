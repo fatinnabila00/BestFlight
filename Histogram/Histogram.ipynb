{
 "cells": [
  {
   "cell_type": "code",
   "execution_count": 17,
   "metadata": {
    "collapsed": true
   },
   "outputs": [
    {
     "data": {
      "text/plain": [
       "'temp-plot.html'"
      ]
     },
     "execution_count": 17,
     "metadata": {},
     "output_type": "execute_result"
    }
   ],
   "source": [
    "import plotly\n",
    "import plotly.graph_objs as go\n",
    "x0 = [7,13,1,6,7]\n",
    "x1 = [17,6,4,9,14]\n",
    "y = ['Article1', 'Article2', 'Article3', 'Article4', 'Article5']\n",
    "\n",
    "trace0 = go.Histogram(\n",
    "   histfunc = \"sum\",\n",
    "    x = y,\n",
    "    y = x0,\n",
    " \n",
    "    name = \"Positive words\"\n",
    "  )\n",
    "\n",
    "trace1 = go.Histogram(\n",
    "    histfunc = \"sum\",\n",
    "    x = y,\n",
    "    y = x1,\n",
    "    \n",
    "    name = \"Negative words\"\n",
    "  )\n",
    "\n",
    "plotly.offline.plot({\n",
    "  \n",
    "    \"data\": [trace0,trace1],\n",
    "    \"layout\": go.Layout(title=\"Histogram of positive and negative words in Tokyo articles.\")\n",
    "}, auto_open=True)\n",
    "\n",
    "\n"
   ]
  },
  {
   "cell_type": "code",
   "execution_count": null,
   "metadata": {},
   "outputs": [],
   "source": []
  }
 ],
 "metadata": {
  "kernelspec": {
   "display_name": "Python 2",
   "language": "python",
   "name": "python2"
  },
  "language_info": {
   "codemirror_mode": {
    "name": "ipython",
    "version": 2
   },
   "file_extension": ".py",
   "mimetype": "text/x-python",
   "name": "python",
   "nbconvert_exporter": "python",
   "pygments_lexer": "ipython2",
   "version": "2.7.6"
  }
 },
 "nbformat": 4,
 "nbformat_minor": 0
}
